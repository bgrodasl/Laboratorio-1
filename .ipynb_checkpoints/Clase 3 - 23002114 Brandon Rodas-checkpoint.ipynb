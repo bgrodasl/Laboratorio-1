{
 "cells": [
  {
   "cell_type": "markdown",
   "id": "40f80cec-afed-4ffc-accd-f5b949b3105e",
   "metadata": {},
   "source": [
    "*Estructura Match*"
   ]
  },
  {
   "cell_type": "code",
   "execution_count": null,
   "id": "ab26abcf-0d0b-499f-bec7-6c7f4bb92fc1",
   "metadata": {},
   "outputs": [],
   "source": [
    "dia = int(input(\"Ingrese un número de día: \"))\n",
    "if(dia >=1) and (dia <=7)):\n",
    "    match dia:\n",
    "        case 1:\n",
    "            dia_str = \"Lunes\"\n",
    "        case 2:\n",
    "            dia_str = \"Martes\"\n",
    "        case 3:\n",
    "            dia_str = \"Miércoles\"\n",
    "        case 4:\n",
    "            dia_str = \"Jueves\"\n",
    "        case 5:\n",
    "            dia_str = \"Viernes\"\n",
    "        case _:\n",
    "            dia_str = \"Es fin de semana\"\n",
    "else:\n",
    "    dia_str = \"El valor ingresado no es válido\"\n",
    "print(dia_str)"
   ]
  },
  {
   "cell_type": "markdown",
   "id": "23bb8e00-fa4e-45c1-b49a-7519dc2a2ba8",
   "metadata": {},
   "source": [
    "### Ejercicio #1"
   ]
  },
  {
   "cell_type": "code",
   "execution_count": 5,
   "id": "6240bc68-5b4b-482e-ae8a-3ebdb60e6808",
   "metadata": {
    "tags": []
   },
   "outputs": [
    {
     "name": "stdin",
     "output_type": "stream",
     "text": [
      "Ingrese un número:  -2556\n"
     ]
    },
    {
     "name": "stdout",
     "output_type": "stream",
     "text": [
      "El valor absoluto de -2556.0 es 2556.0\n"
     ]
    }
   ],
   "source": [
    "numero = float(input(\"Ingrese un número: \"))\n",
    "abs_num = 0\n",
    "\n",
    "if(numero <= 0):\n",
    "    abs_num = -1*numero\n",
    "else:\n",
    "    abs_num = numero\n",
    "    \n",
    "print(f\"El valor absoluto de {numero} es {abs_num}\")"
   ]
  },
  {
   "cell_type": "markdown",
   "id": "3f993cb9-1f71-4b34-b893-d60386d5a220",
   "metadata": {},
   "source": [
    "### Ejercicio #2"
   ]
  },
  {
   "cell_type": "markdown",
   "id": "5b434488-b2df-49af-82c3-86fb1736ae01",
   "metadata": {},
   "source": [
    "Desplegar si un numero es par o impar."
   ]
  },
  {
   "cell_type": "code",
   "execution_count": 19,
   "id": "34d99c53-8a20-4236-bf56-a723e3324e76",
   "metadata": {
    "tags": []
   },
   "outputs": [
    {
     "name": "stdin",
     "output_type": "stream",
     "text": [
      "Ingrese un número:  0\n"
     ]
    },
    {
     "name": "stdout",
     "output_type": "stream",
     "text": [
      "El númer es:  Par\n"
     ]
    }
   ],
   "source": [
    "numero = int(input(\"Ingrese un número: \"))\n",
    "tipo_numero = \"\"\n",
    "\n",
    "if((numero % 2) == 0):\n",
    "    tipo_numero = \"Par\"\n",
    "else:\n",
    "    tipo_numero = \"Impar\"\n",
    "    \n",
    "print(f\"El númer es: \", tipo_numero)"
   ]
  },
  {
   "cell_type": "markdown",
   "id": "42050a69-77dd-4bb0-b614-0d0b5ec3d74d",
   "metadata": {},
   "source": [
    "# 3. Ciclos"
   ]
  },
  {
   "cell_type": "code",
   "execution_count": null,
   "id": "4b0e6970-8217-495e-aeba-c3e4cf5511d0",
   "metadata": {},
   "outputs": [],
   "source": [
    "Mientras esto entonces:\n",
    "    hacer esto."
   ]
  },
  {
   "cell_type": "code",
   "execution_count": 23,
   "id": "9f8104b0-ec2e-4c56-ab78-e17cf2c21575",
   "metadata": {
    "tags": []
   },
   "outputs": [
    {
     "name": "stdout",
     "output_type": "stream",
     "text": [
      "El valor es:  1\n",
      "El valor es:  2\n",
      "El valor es:  3\n",
      "El valor es:  4\n",
      "El valor es:  5\n",
      "El valor es:  6\n",
      "El valor es:  7\n",
      "El valor es:  8\n",
      "El valor es:  9\n",
      "El valor es:  10\n",
      "El valor es:  11\n",
      "Termino...\n"
     ]
    }
   ],
   "source": [
    "valor = 0\n",
    "\n",
    "while(valor <= 10):\n",
    "    valor = valor + 1\n",
    "    print(\"El valor es: \", valor)\n",
    "    \n",
    "print(\"Termino...\")"
   ]
  },
  {
   "cell_type": "code",
   "execution_count": 30,
   "id": "f2d523c0-1315-41c9-8923-fe3e6619aa83",
   "metadata": {
    "tags": []
   },
   "outputs": [
    {
     "name": "stdin",
     "output_type": "stream",
     "text": [
      "Ingrese un número:  -5\n"
     ]
    },
    {
     "name": "stdout",
     "output_type": "stream",
     "text": [
      "El número -5 es incorrecto.\n"
     ]
    },
    {
     "name": "stdin",
     "output_type": "stream",
     "text": [
      "Ingrese un número:  -5\n"
     ]
    },
    {
     "name": "stdout",
     "output_type": "stream",
     "text": [
      "El número -5 es incorrecto.\n"
     ]
    },
    {
     "name": "stdin",
     "output_type": "stream",
     "text": [
      "Ingrese un número:  5\n"
     ]
    },
    {
     "name": "stdout",
     "output_type": "stream",
     "text": [
      "El número 5 es incorrecto.\n"
     ]
    },
    {
     "name": "stdin",
     "output_type": "stream",
     "text": [
      "Ingrese un número:  6\n"
     ]
    },
    {
     "name": "stdout",
     "output_type": "stream",
     "text": [
      "El número 6 es incorrecto.\n"
     ]
    },
    {
     "name": "stdin",
     "output_type": "stream",
     "text": [
      "Ingrese un número:  10\n"
     ]
    },
    {
     "name": "stdout",
     "output_type": "stream",
     "text": [
      "Número 10 correcto\n"
     ]
    }
   ],
   "source": [
    "numero_secreto = 10\n",
    "numero = 0\n",
    "\n",
    "while(numero != numero_secreto):\n",
    "    numero = int(input(\"Ingrese un número: \"))\n",
    "    if(numero != numero_secreto):\n",
    "        print(f\"El número {numero} es incorrecto.\")\n",
    "    \n",
    "print(f\"Número {numero} correcto\")"
   ]
  },
  {
   "cell_type": "code",
   "execution_count": null,
   "id": "e8e67c65-6401-4d3b-9688-25c846c8e4e4",
   "metadata": {},
   "outputs": [],
   "source": [
    "#Sumas"
   ]
  },
  {
   "cell_type": "code",
   "execution_count": 31,
   "id": "9f7c339f-9eb3-4af4-964a-be9e9cd8a641",
   "metadata": {
    "tags": []
   },
   "outputs": [
    {
     "data": {
      "text/plain": [
       "4"
      ]
     },
     "execution_count": 31,
     "metadata": {},
     "output_type": "execute_result"
    }
   ],
   "source": [
    "2*2"
   ]
  },
  {
   "cell_type": "code",
   "execution_count": 32,
   "id": "b4597fbc-22ab-4e19-b866-55b67a657260",
   "metadata": {
    "tags": []
   },
   "outputs": [
    {
     "data": {
      "text/plain": [
       "15"
      ]
     },
     "execution_count": 32,
     "metadata": {},
     "output_type": "execute_result"
    }
   ],
   "source": [
    "3*5"
   ]
  },
  {
   "cell_type": "code",
   "execution_count": 33,
   "id": "e540b6f1-fb98-4ede-953d-4c66d6f5b142",
   "metadata": {
    "tags": []
   },
   "outputs": [
    {
     "data": {
      "text/plain": [
       "15"
      ]
     },
     "execution_count": 33,
     "metadata": {},
     "output_type": "execute_result"
    }
   ],
   "source": [
    "5+5+5"
   ]
  },
  {
   "cell_type": "code",
   "execution_count": 34,
   "id": "33976d99-1238-488a-8031-8bf8224aa39f",
   "metadata": {
    "tags": []
   },
   "outputs": [
    {
     "data": {
      "text/plain": [
       "15"
      ]
     },
     "execution_count": 34,
     "metadata": {},
     "output_type": "execute_result"
    }
   ],
   "source": [
    "3+3+3+3+3"
   ]
  },
  {
   "cell_type": "code",
   "execution_count": 36,
   "id": "2509c6d4-8605-42de-a68a-029caa54c181",
   "metadata": {
    "tags": []
   },
   "outputs": [
    {
     "name": "stdin",
     "output_type": "stream",
     "text": [
      "Ingrese un número:  5\n",
      "Ingrese otro número:  8\n"
     ]
    },
    {
     "name": "stdout",
     "output_type": "stream",
     "text": [
      "La multiplicación de 5 * 8 es 40\n"
     ]
    }
   ],
   "source": [
    "a = int(input(\"Ingrese un número: \"))\n",
    "b = int(input(\"Ingrese otro número: \"))\n",
    "\n",
    "acc = 0\n",
    "contador = 0\n",
    "\n",
    "while(contador != b):\n",
    "    contador = contador + 1\n",
    "    acc = acc + a\n",
    "    \n",
    "print(f\"La multiplicación de {a} * {b} es {acc}\")"
   ]
  },
  {
   "cell_type": "code",
   "execution_count": 37,
   "id": "f4cdec0d-d7bf-4dd6-9f6d-0cd0d2e3a88e",
   "metadata": {
    "tags": []
   },
   "outputs": [
    {
     "data": {
      "text/plain": [
       "'5+5+5+'"
      ]
     },
     "execution_count": 37,
     "metadata": {},
     "output_type": "execute_result"
    }
   ],
   "source": [
    "\"5+\"*3"
   ]
  },
  {
   "cell_type": "markdown",
   "id": "38159e9c-343f-486b-a0ad-a6c113875710",
   "metadata": {
    "tags": []
   },
   "source": [
    "# 4. Excepciones"
   ]
  },
  {
   "cell_type": "code",
   "execution_count": 48,
   "id": "4e06ddc8-ba75-4cec-a737-05a4c8c74712",
   "metadata": {
    "tags": []
   },
   "outputs": [
    {
     "name": "stdout",
     "output_type": "stream",
     "text": [
      "Error no se puede dividir por cero\n"
     ]
    }
   ],
   "source": [
    "try:\n",
    "    6 + 6\n",
    "    7 / 0\n",
    "    5 + 8\n",
    "except:\n",
    "    print(\"Error no se puede dividir por cero\")"
   ]
  },
  {
   "cell_type": "code",
   "execution_count": 65,
   "id": "c1c6d5f1-4592-4a4a-9433-4c997738adba",
   "metadata": {
    "tags": []
   },
   "outputs": [
    {
     "name": "stdin",
     "output_type": "stream",
     "text": [
      "Ingrese un número:  5\n",
      "Ingrese otro número:  5\n"
     ]
    },
    {
     "name": "stdout",
     "output_type": "stream",
     "text": [
      "La división de 5 y 5 es 1.0\n"
     ]
    }
   ],
   "source": [
    "try:\n",
    "    a = int(input(\"Ingrese un número: \"))\n",
    "    b = int(input(\"Ingrese otro número: \"))\n",
    "    res = a / b\n",
    "    print(f\"La división de {a} y {b} es {res}\")\n",
    "except ZeroDivisonError:\n",
    "    print(\"Error - División por cero.\")\n",
    "except ValueError:\n",
    "    print(\"Error - Ingresó letas y no números.\")\n",
    "except Exception as ex:\n",
    "    print(\"Error - \", ex)"
   ]
  },
  {
   "cell_type": "code",
   "execution_count": 67,
   "id": "6bd8b7ff-a9fd-4804-b3c1-a520ea5b3440",
   "metadata": {
    "tags": []
   },
   "outputs": [
    {
     "name": "stdin",
     "output_type": "stream",
     "text": [
      "Ingrese un número:  0554\n",
      "Ingrese otro número:  0\n"
     ]
    },
    {
     "name": "stdout",
     "output_type": "stream",
     "text": [
      "La multiplicación de 554 * 0 es 0\n"
     ]
    }
   ],
   "source": [
    "try:\n",
    "    a = int(input(\"Ingrese un número: \"))\n",
    "    b = int(input(\"Ingrese otro número: \"))\n",
    "\n",
    "    acc = 0\n",
    "    contador = 0\n",
    "\n",
    "    while(contador != b):\n",
    "        contador = contador + 1\n",
    "        acc = acc + a\n",
    "\n",
    "    print(f\"La multiplicación de {a} * {b} es {acc}\")\n",
    "except ValueError:\n",
    "    print(\"Ingresó letras y no números.\")"
   ]
  },
  {
   "cell_type": "code",
   "execution_count": null,
   "id": "8755368a-a2bf-4928-9ac0-0a4dfb98b439",
   "metadata": {
    "tags": []
   },
   "outputs": [
    {
     "name": "stdin",
     "output_type": "stream",
     "text": [
      "Ingrese un número:  55\n"
     ]
    },
    {
     "name": "stdout",
     "output_type": "stream",
     "text": [
      "El número 55 es incorrecto.\n"
     ]
    },
    {
     "name": "stdin",
     "output_type": "stream",
     "text": [
      "Ingrese un número:  ef\n"
     ]
    },
    {
     "name": "stdout",
     "output_type": "stream",
     "text": [
      "Error - Ingresó letras y no números.\n"
     ]
    },
    {
     "name": "stdin",
     "output_type": "stream",
     "text": [
      "Ingrese un número:  5\n"
     ]
    },
    {
     "name": "stdout",
     "output_type": "stream",
     "text": [
      "El número 5 es incorrecto.\n"
     ]
    },
    {
     "name": "stdin",
     "output_type": "stream",
     "text": [
      "Ingrese un número:  4\n"
     ]
    },
    {
     "name": "stdout",
     "output_type": "stream",
     "text": [
      "El número 4 es incorrecto.\n"
     ]
    },
    {
     "name": "stdin",
     "output_type": "stream",
     "text": [
      "Ingrese un número:  44.\n"
     ]
    },
    {
     "name": "stdout",
     "output_type": "stream",
     "text": [
      "Error - Ingresó letras y no números.\n"
     ]
    },
    {
     "name": "stdin",
     "output_type": "stream",
     "text": [
      "Ingrese un número:  20\n"
     ]
    },
    {
     "name": "stdout",
     "output_type": "stream",
     "text": [
      "El número 20 es incorrecto.\n"
     ]
    },
    {
     "name": "stdin",
     "output_type": "stream",
     "text": [
      "Ingrese un número:  5564\n"
     ]
    },
    {
     "name": "stdout",
     "output_type": "stream",
     "text": [
      "El número 5564 es incorrecto.\n"
     ]
    },
    {
     "name": "stdin",
     "output_type": "stream",
     "text": [
      "Ingrese un número:  *555\n"
     ]
    },
    {
     "name": "stdout",
     "output_type": "stream",
     "text": [
      "Error - Ingresó letras y no números.\n"
     ]
    },
    {
     "name": "stdin",
     "output_type": "stream",
     "text": [
      "Ingrese un número:  -1\n"
     ]
    },
    {
     "name": "stdout",
     "output_type": "stream",
     "text": [
      "El número -1 es incorrecto.\n"
     ]
    },
    {
     "name": "stdin",
     "output_type": "stream",
     "text": [
      "Ingrese un número:  56\n"
     ]
    },
    {
     "name": "stdout",
     "output_type": "stream",
     "text": [
      "El número 56 es incorrecto.\n"
     ]
    },
    {
     "name": "stdin",
     "output_type": "stream",
     "text": [
      "Ingrese un número:  dd\n"
     ]
    },
    {
     "name": "stdout",
     "output_type": "stream",
     "text": [
      "Error - Ingresó letras y no números.\n"
     ]
    }
   ],
   "source": [
    "import random\n",
    "numero_secreto = random.randint(1,20)\n",
    "numero = 0\n",
    "\n",
    "#Mientras el número sea diferente del número_secreto correr ciclo.\n",
    "while(numero != numero_secreto):\n",
    "    try:\n",
    "        numero = int(input(\"Ingrese un número del 1 al 20: \"))\n",
    "        if((numero >= 1) and (numero <= 20)):    \n",
    "            if(numero != numero_secreto):\n",
    "                print(f\"El número {numero} es incorrecto.\")\n",
    "        else:\n",
    "            print(\"El numero debe ser entre 1 y 20.\")\n",
    "    except:\n",
    "        print(\"Error - Ingresó letras y no números.\")\n",
    "    \n",
    "print(f\"Número {numero} correcto\")"
   ]
  }
 ],
 "metadata": {
  "kernelspec": {
   "display_name": "Python 3 (ipykernel)",
   "language": "python",
   "name": "python3"
  },
  "language_info": {
   "codemirror_mode": {
    "name": "ipython",
    "version": 3
   },
   "file_extension": ".py",
   "mimetype": "text/x-python",
   "name": "python",
   "nbconvert_exporter": "python",
   "pygments_lexer": "ipython3",
   "version": "3.11.5"
  }
 },
 "nbformat": 4,
 "nbformat_minor": 5
}
