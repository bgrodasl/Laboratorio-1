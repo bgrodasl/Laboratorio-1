{
 "cells": [
  {
   "cell_type": "markdown",
   "id": "5fe12e6e-9eec-4536-a13c-9ef49564d41c",
   "metadata": {
    "tags": []
   },
   "source": [
    "**Laboratorio 1**"
   ]
  },
  {
   "cell_type": "markdown",
   "id": "57e8ac5b-0a9d-4314-90ad-6b008ec1b7a1",
   "metadata": {},
   "source": [
    "**23002114 - Brandon Geovanny Rodas Lémus**"
   ]
  },
  {
   "cell_type": "markdown",
   "id": "6e7c5fae-537b-48f7-90fd-d96f3e507a54",
   "metadata": {
    "tags": []
   },
   "source": [
    "# Qué es git"
   ]
  },
  {
   "cell_type": "markdown",
   "id": "9f80e5a2-a31f-4bff-ae8f-d03deb7cdd85",
   "metadata": {},
   "source": [
    "Git es un sistema de control de versiones distribuido, lo que significa que un clon local del proyecto es un repositorio de control de versiones completo. Estos repositorios locales plenamente funcionales permiten trabajar sin conexión o de forma remota con facilidad. Los desarrolladores confirman su trabajo localmente y, a continuación, sincronizan la copia del repositorio con la del servidor. Este paradigma es distinto del control de versiones centralizado, donde los clientes deben sincronizar el código con un servidor antes de crear nuevas versiones.\n"
   ]
  },
  {
   "cell_type": "markdown",
   "id": "a13cdefe-2f1d-414f-8d95-658a12908179",
   "metadata": {},
   "source": [
    "La flexibilidad y popularidad de Git lo convierten en una excelente opción para cualquier equipo. Muchos desarrolladores y graduados universitarios ya saben cómo usar Git. La comunidad de usuarios de Git ha creado recursos para entrenar a los desarrolladores y la popularidad de Git facilita recibir ayuda cuando se necesita. Casi todos los entornos de desarrollo tienen compatibilidad con Git y las herramientas de línea de comandos de Git implementadas en todos los sistemas operativos principales."
   ]
  },
  {
   "cell_type": "markdown",
   "id": "2b0342cb-a937-4519-a956-c89d1c1c14c8",
   "metadata": {
    "tags": []
   },
   "source": [
    "# Qué es github"
   ]
  },
  {
   "cell_type": "markdown",
   "id": "0a8e9364-3e20-41b8-aa9b-29e2c01553d5",
   "metadata": {},
   "source": [
    "Github es un repositorio online gratuito que permite gestionar proyectos y controlar versiones de código. Es muy utilizado por desarrolladores para almacenar sus trabajos dando así la oportunidad a millones de personas de todo el mundo a cooperar en ellos."
   ]
  },
  {
   "cell_type": "markdown",
   "id": "8dcec769-c5b6-48ec-927f-1ad52fbcd86e",
   "metadata": {},
   "source": [
    "Se podría hablar de Github como la red social pensada para desarrolladores, siendo este repositorio uno de los más usados a nivel mundial."
   ]
  },
  {
   "cell_type": "markdown",
   "id": "237f430c-f9b8-4935-bda1-21863bf5e8f8",
   "metadata": {},
   "source": [
    "Podemos seguir e interactuar con personas interesadas en un tipo de proyecto en concreto, dando a conocer los nuestros o cooperando en el proyecto de terceros."
   ]
  },
  {
   "cell_type": "markdown",
   "id": "7120cada-9fe7-40c9-a37a-83ba9835818b",
   "metadata": {},
   "source": [
    "# MagicCells."
   ]
  },
  {
   "cell_type": "markdown",
   "id": "3ee56310-2e40-4da6-a671-d1d5ca050b4f",
   "metadata": {
    "tags": []
   },
   "source": [
    "¿Cuál es una magia celular?\n",
    "IPython proporciona dos categorías de magia: magia de línea y magia de celda. La magia de línea opera en una sola línea de entrada y se indica con un signo de porcentaje (%). La magia celular puede operar en múltiples líneas de entrada y se indica con signos de dos por ciento (%%)."
   ]
  }
 ],
 "metadata": {
  "kernelspec": {
   "display_name": "Python 3 (ipykernel)",
   "language": "python",
   "name": "python3"
  },
  "language_info": {
   "codemirror_mode": {
    "name": "ipython",
    "version": 3
   },
   "file_extension": ".py",
   "mimetype": "text/x-python",
   "name": "python",
   "nbconvert_exporter": "python",
   "pygments_lexer": "ipython3",
   "version": "3.11.5"
  }
 },
 "nbformat": 4,
 "nbformat_minor": 5
}
